{
 "cells": [
  {
   "cell_type": "code",
   "execution_count": 1,
   "metadata": {},
   "outputs": [
    {
     "name": "stdout",
     "output_type": "stream",
     "text": [
      "Hello world\n"
     ]
    }
   ],
   "source": [
    "print (\"Hello world\")"
   ]
  },
  {
   "cell_type": "markdown",
   "metadata": {},
   "source": [
    "## Mục lục\n",
    "#### 1. Giới thiệu về JSON\n",
    "- JSON là 1 định dạng chuẩn để trao đổi dữ liệu.\n",
    "- Cú pháp của JSON: JSON được viết dưới dạng cặp <key>:<value>.\n",
    "\n",
    "#### 2. Cách duyệt file với JSON\n",
    "#### 3. Cách đọc & ghi file JSON \n",
    "#### 4. Bài tập \n"
   ]
  },
  {
   "cell_type": "code",
   "execution_count": 11,
   "metadata": {},
   "outputs": [
    {
     "name": "stdout",
     "output_type": "stream",
     "text": [
      "{'name': 'John', 'age': 30, 'city': 'HCM'}\n"
     ]
    }
   ],
   "source": [
    "#1. Json Example  \n",
    "\"\"\"\n",
    "Json structure:\n",
    "{\n",
    "    key_1: value_1, \n",
    "    key_2: value_2,\n",
    "    key_3: value_3\n",
    "}\n",
    "\"\"\" \n",
    "json_exp_1 = {\n",
    "    \"name\":\"John\",\n",
    "    \"age\":30,\n",
    "    \"city\":\"HCM\"\n",
    "}\n",
    "print (json_exp_1)\n"
   ]
  },
  {
   "cell_type": "markdown",
   "metadata": {},
   "source": [
    "### 2. Cách duyệt file với JSON\n",
    "Nhắc lại vòng lặp for: \n",
    "- Thường dùng khi muốn thực hiện một **đoạn mã-A** một số lần nhất định. \n",
    "- Khi sử dụng vòng lặp for cho list, Python sẽ duyệt qua từng phần tử trong list, và thực thi **đoạn mã A**.\n",
    "\n",
    "Tương tự với vòng lặp for:\n",
    "- Khi duyệt qua 1 dictionary, Python sẽ duyệt qua từng cặp key, value trong dictionary, và thực hiện **đoạn mã A**.\n",
    "- Để truy cập phần tử trong list, ta dùng **index**. Còn trong dictionary, ta dùng **key**."
   ]
  },
  {
   "cell_type": "code",
   "execution_count": 20,
   "metadata": {},
   "outputs": [
    {
     "name": "stdout",
     "output_type": "stream",
     "text": [
      "1\n",
      "2\n",
      "3\n",
      "\n",
      "Access element in list via index.\n",
      "1\n",
      "2\n",
      "3\n",
      "100-0005\n",
      "100-0005\n",
      "other\n",
      "other\n",
      "\n",
      "\n",
      "\n",
      "Access element in dict via key\n",
      "Key: label -Value: 100-0005\n",
      "Key: key_type -Value: other\n",
      "Key: text_category -Value: japanese\n",
      "Key: text_type -Value: printed\n",
      "Key: formal_key -Value: \n",
      "Key: note -Value: \n"
     ]
    }
   ],
   "source": [
    "# Example of how to access element in list\n",
    "lst = [1,2,3]\n",
    "\n",
    "print (lst[0])\n",
    "print (lst[1])\n",
    "print (lst[2])\n",
    "\n",
    "print (\"\\nAccess element in list via index.\")\n",
    "for elem in lst:\n",
    "    print (elem)\n",
    "\n",
    "# Example of how to access element in dict\n",
    "region_attributes = {\n",
    "                        \"label\": \"100-0005\",\n",
    "                        \"key_type\": \"other\",\n",
    "                        \"text_category\": \"japanese\",\n",
    "                        \"text_type\": \"printed\",\n",
    "                        \"formal_key\": \"\",\n",
    "                        \"note\": \"\"\n",
    "                    }\n",
    "\n",
    "\n",
    "print (region_attributes['label'])\n",
    "print (region_attributes.get('label',''))\n",
    "\n",
    "print (region_attributes['key_type'])\n",
    "print (region_attributes.get('key_type',''))\n",
    "\n",
    "print (region_attributes['formal_key'])\n",
    "print (region_attributes.get('formal_key',''))\n",
    "\n",
    "print (\"\\nAccess element in dict via key\")\n",
    "for key,value in region_attributes.items():\n",
    "    print (\"Key:\",key,\"-Value:\",value)\n",
    "    "
   ]
  },
  {
   "cell_type": "code",
   "execution_count": 23,
   "metadata": {},
   "outputs": [
    {
     "name": "stdout",
     "output_type": "stream",
     "text": [
      "\n",
      " {'name': 'nancy', 'age': 24}\n",
      "Key: name -Value: nancy\n",
      "Key: age -Value: 24\n",
      "\n",
      " {'name': 'tammy', 'age': 23}\n",
      "Key: name -Value: tammy\n",
      "Key: age -Value: 23\n"
     ]
    }
   ],
   "source": [
    "# Example v2: Iterate a list of dictionary\n",
    "student_infomations = [\n",
    "    {\n",
    "        'name':'nancy',\n",
    "        'age':24,\n",
    "    },\n",
    "    {\n",
    "        'name':'tammy',\n",
    "        'age':23\n",
    "    }\n",
    "]\n",
    "\n",
    "\"\"\"\n",
    "This is a list of dictionary, so:\n",
    "1. First, iterate each element in list.\n",
    "2. Second, for each element (type dict), iterate all pair <key>:<value>\n",
    "\"\"\" \n",
    "\n",
    "for dct_element in student_infomations:\n",
    "    print (\"\\n\",dct_element)\n",
    "    \n",
    "    for key, value in dct_element.items():\n",
    "        print (\"Key:\",key,\"-Value:\",value) "
   ]
  },
  {
   "cell_type": "markdown",
   "metadata": {},
   "source": [
    "### 2. Cách đọc & ghi file với JSON\n",
    "#### Đọc file JSON từ 1 đường dẫn\n",
    "- Cú pháp: \n",
    "```\n",
    "import json\n",
    "file_path = \"where_is_your_json_file_path\"\n",
    "dct_info = json.load(open(file_path,'r', encoding='utf-8'))\n",
    "```\n",
    "\n",
    "#### Ghi file JSON đến 1 đường dẫn\n",
    "- Cú pháp: \n",
    "```\n",
    "import json\n",
    "file_path = \"where_is_your_expected_file_path\"\n",
    "dct_info = \"your json information stored here\"\n",
    "json.dump(dct_info, open(file_path, 'w', encoding='utf-8'), indent=2, ensure_ascii=False)\n",
    "```"
   ]
  },
  {
   "cell_type": "code",
   "execution_count": 29,
   "metadata": {},
   "outputs": [
    {
     "name": "stdout",
     "output_type": "stream",
     "text": [
      "{'q1': {'question': '5 + 7 = ?', 'options': ['10', '11', '12', '13'], 'answer': '12'}, 'q2': {'question': '12 - 8 = ?', 'options': ['1', '2', '3', '4'], 'answer': '4'}}\n",
      "{\n",
      " \"q1\": {\n",
      "  \"question\": \"5 + 7 = ?\",\n",
      "  \"options\": [\n",
      "   \"10\",\n",
      "   \"11\",\n",
      "   \"12\",\n",
      "   \"13\"\n",
      "  ],\n",
      "  \"answer\": \"12\"\n",
      " },\n",
      " \"q2\": {\n",
      "  \"question\": \"12 - 8 = ?\",\n",
      "  \"options\": [\n",
      "   \"1\",\n",
      "   \"2\",\n",
      "   \"3\",\n",
      "   \"4\"\n",
      "  ],\n",
      "  \"answer\": \"4\"\n",
      " }\n",
      "}\n"
     ]
    }
   ],
   "source": [
    "# Example of reading json file\n",
    "import json\n",
    "\n",
    "file_path = \"./example_json_in.json\"\n",
    "dct_info = json.load(open(file_path,'r', encoding='utf-8'))\n",
    "\n",
    "print (dct_info)\n",
    "print (json.dumps(dct_info, indent=1, ensure_ascii=False))"
   ]
  },
  {
   "cell_type": "code",
   "execution_count": 33,
   "metadata": {},
   "outputs": [],
   "source": [
    "new_question = {\n",
    "    'question': \"1 + 1 = ?\",\n",
    "    \"options\" : [\n",
    "        \"1\",\n",
    "        \"2\",\n",
    "        \"3\",\n",
    "        \"4\"\n",
    "    ],\n",
    "    \"answer\": \"2\"\n",
    "}"
   ]
  },
  {
   "cell_type": "markdown",
   "metadata": {},
   "source": [
    "### Để cập nhập thêm phần tử mới,\n",
    "#### Trong list:\n",
    "```\n",
    "lst = [1,2,3]\n",
    "lst = lst + [4] # Cập nhập thêm phần tử 4 vào trong lst, lst = [1,2,3,4]\n",
    "```\n",
    "\n",
    "#### Trong dictionary: \n",
    "```\n",
    "dct_info = {\n",
    "    'name': 'nancy',\n",
    "    'age': 25,\n",
    "}\n",
    "\n",
    "# Cập nhập thêm thông tin về sở thích\n",
    "dct_info['hobby'] = 'quay_tay'\n",
    "\n",
    "# Thay đổi thông tin 1 thuộc tính có sẵn.\n",
    "dct['age'] = 99\n",
    "\n",
    "```\n",
    "\n"
   ]
  },
  {
   "cell_type": "code",
   "execution_count": 38,
   "metadata": {},
   "outputs": [
    {
     "name": "stdout",
     "output_type": "stream",
     "text": [
      "{'name': 'nancy', 'age': 25, 'hobby': 'quay_tay'}\n",
      "{'name': 'nancy', 'age': 99, 'hobby': 'quay_tay'}\n"
     ]
    }
   ],
   "source": [
    "dct_info = {\n",
    "    'name': 'nancy',\n",
    "    'age': 25,\n",
    "}\n",
    "\n",
    "# Cập nhập thêm thông tin về sở thích\n",
    "dct_info['hobby'] = 'quay_tay'\n",
    "print (dct_info)\n",
    "\n",
    "# Thay đổi thông tin 1 thuộc tính có sẵn.\n",
    "dct_info['age'] = 99\n",
    "\n",
    "print (dct_info)"
   ]
  },
  {
   "cell_type": "code",
   "execution_count": 42,
   "metadata": {},
   "outputs": [
    {
     "name": "stdout",
     "output_type": "stream",
     "text": [
      "{'q1': {'question': '5 + 7 = ?', 'options': ['10', '11', '12', '13'], 'answer': '12'}, 'q2': {'question': '12 - 8 = ?', 'options': ['1', '2', '3', '4'], 'answer': '4'}}\n",
      "{\n",
      " \"q1\": {\n",
      "  \"question\": \"5 + 7 = ?\",\n",
      "  \"options\": [\n",
      "   \"10\",\n",
      "   \"11\",\n",
      "   \"12\",\n",
      "   \"13\"\n",
      "  ],\n",
      "  \"answer\": \"12\"\n",
      " },\n",
      " \"q2\": {\n",
      "  \"question\": \"12 - 8 = ?\",\n",
      "  \"options\": [\n",
      "   \"1\",\n",
      "   \"2\",\n",
      "   \"3\",\n",
      "   \"4\"\n",
      "  ],\n",
      "  \"answer\": \"4\"\n",
      " }\n",
      "}\n"
     ]
    }
   ],
   "source": [
    "# Example of read, then update and write json file\n",
    "import json\n",
    "\n",
    "file_path = \"./example_json_in.json\"\n",
    "dct_info = json.load(open(file_path,'r', encoding='utf-8'))\n",
    "\n",
    "print (dct_info)\n",
    "print (json.dumps(dct_info, indent=1, ensure_ascii=False))"
   ]
  },
  {
   "cell_type": "code",
   "execution_count": 43,
   "metadata": {},
   "outputs": [
    {
     "name": "stdout",
     "output_type": "stream",
     "text": [
      "{'q1': {'question': '5 + 7 = ?', 'options': ['10', '11', '12', '13'], 'answer': '12'}, 'q2': {'question': '12 - 8 = ?', 'options': ['1', '2', '3', '4'], 'answer': '4'}, 'q3': {'question': '1 + 1 = ?', 'options': ['1', '2', '3', '4'], 'answer': '2'}}\n",
      "{\n",
      " \"q1\": {\n",
      "  \"question\": \"5 + 7 = ?\",\n",
      "  \"options\": [\n",
      "   \"10\",\n",
      "   \"11\",\n",
      "   \"12\",\n",
      "   \"13\"\n",
      "  ],\n",
      "  \"answer\": \"12\"\n",
      " },\n",
      " \"q2\": {\n",
      "  \"question\": \"12 - 8 = ?\",\n",
      "  \"options\": [\n",
      "   \"1\",\n",
      "   \"2\",\n",
      "   \"3\",\n",
      "   \"4\"\n",
      "  ],\n",
      "  \"answer\": \"4\"\n",
      " },\n",
      " \"q3\": {\n",
      "  \"question\": \"1 + 1 = ?\",\n",
      "  \"options\": [\n",
      "   \"1\",\n",
      "   \"2\",\n",
      "   \"3\",\n",
      "   \"4\"\n",
      "  ],\n",
      "  \"answer\": \"2\"\n",
      " }\n",
      "}\n"
     ]
    }
   ],
   "source": [
    "# Prepare new information\n",
    "new_question = {\n",
    "    'question': \"1 + 1 = ?\",\n",
    "    \"options\" : [\n",
    "        \"1\",\n",
    "        \"2\",\n",
    "        \"3\",\n",
    "        \"4\"\n",
    "    ],\n",
    "    \"answer\": \"2\"\n",
    "}\n",
    "\n",
    "# Update current dictionary\n",
    "dct_info['q3'] = new_question\n",
    "print (dct_info)\n",
    "print (json.dumps(dct_info, indent=1, ensure_ascii=False))"
   ]
  },
  {
   "cell_type": "code",
   "execution_count": 45,
   "metadata": {},
   "outputs": [],
   "source": [
    "file_path = \"example_json_out.json\"\n",
    "json.dump(dct_info, open(file_path, 'w', encoding='utf-8'), indent=2, ensure_ascii=False)"
   ]
  },
  {
   "cell_type": "markdown",
   "metadata": {},
   "source": [
    "#### Bài tập "
   ]
  },
  {
   "cell_type": "markdown",
   "metadata": {},
   "source": [
    "1. Đường vào là một file json theo format của Datapile. Xử lí và trả ra tất cả những region nào có formal_key là pay_comp_name, lưu ra file."
   ]
  },
  {
   "cell_type": "code",
   "execution_count": null,
   "metadata": {},
   "outputs": [],
   "source": []
  }
 ],
 "metadata": {
  "kernelspec": {
   "display_name": "Python 3",
   "language": "python",
   "name": "python3"
  },
  "language_info": {
   "codemirror_mode": {
    "name": "ipython",
    "version": 3
   },
   "file_extension": ".py",
   "mimetype": "text/x-python",
   "name": "python",
   "nbconvert_exporter": "python",
   "pygments_lexer": "ipython3",
   "version": "3.6.8"
  }
 },
 "nbformat": 4,
 "nbformat_minor": 2
}
