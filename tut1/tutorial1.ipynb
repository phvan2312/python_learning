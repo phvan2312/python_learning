{
 "cells": [
  {
   "cell_type": "code",
   "execution_count": 1,
   "metadata": {},
   "outputs": [],
   "source": [
    "import os"
   ]
  },
  {
   "cell_type": "markdown",
   "metadata": {},
   "source": [
    "## Mục Lục\n",
    "#### 1. Tổng quan về python\n",
    "\n",
    "- Ngôn ngữ lập trình là 1 \"thứ tiếng\" để con người nói chuyện với máy, bắt máy làm những việc mình không muốn làm.\n",
    "- Python đơn giản chỉ là một ngôn ngữ lập trình cấp cao, ưu điểm chính của python là viết code dễ hiểu, nhanh gon. Nhưng bù lại, về tốc độ so với các ngôn ngữ lập trình khác có 1 chút chậm hơn (nhưng vẫn nhanh vl).\n",
    "\n",
    "#### 2. Khai báo biến trong python\n",
    "#### 3. Lệnh và cú pháp cơ bản.\n",
    "#### 3. Thao tác đơn giản với thư viện os\n",
    "#### 4. Bài tập"
   ]
  },
  {
   "cell_type": "code",
   "execution_count": 3,
   "metadata": {},
   "outputs": [
    {
     "name": "stdout",
     "output_type": "stream",
     "text": [
      "hello world\n"
     ]
    }
   ],
   "source": [
    "print (\"hello world\")"
   ]
  },
  {
   "cell_type": "markdown",
   "metadata": {},
   "source": [
    "---------------------------------------------------------------------------------------------------"
   ]
  },
  {
   "cell_type": "markdown",
   "metadata": {},
   "source": [
    "#### 2. Khai báo biến trong python \n",
    "\n",
    "- Python có 1 số loại kiểu dữ liệu cơ bản thường dùng như int(số nguyên), float(số thực), str(chuỗi), ..., cho tới những kiểu dữ liệu cao hơn, là tập hợp của những kiểu dữ liệu khác, ví dụ như list (danh sách), dict(T.T đây chính là format của các file .json).\n",
    "- Về cách khai báo: <tên biến> = <giá trị>\n"
   ]
  },
  {
   "cell_type": "code",
   "execution_count": 5,
   "metadata": {},
   "outputs": [],
   "source": [
    "# Một số ví dụ\n",
    "a = 1 # Python sẽ tự hiểu đây là kiểu số nguyên\n",
    "b = 2.5 # Python sẽ tự hiểu đây là kiểu số thực\n",
    "c = \"cinnamon\" #Lưu ý: các chữ cái phải nằm trong 2 dấu nháy \"\" hoặc ''. Có thể dùng 1 trong 2.\n",
    "d = True # Chỉ nhận giá trị True/False \n",
    "\n",
    "e = [1, 2, 3, 4, 5] # [1]\n",
    "f = {\n",
    "    'ten': {\"last_name\":\"pham\"},\n",
    "    'tuoi':18,\n",
    "    'gioi_tinh':'chua_xac_dinh',\n",
    "    'co_oc_khoong': True,\n",
    "    'so_thich': ['quay_tay', 'bung_thun']\n",
    "}"
   ]
  },
  {
   "cell_type": "code",
   "execution_count": 6,
   "metadata": {},
   "outputs": [
    {
     "name": "stdout",
     "output_type": "stream",
     "text": [
      "abc'dsadsa\n"
     ]
    }
   ],
   "source": [
    "# abc\"dsadsa\n",
    "print (\"abc'dsadsa\")"
   ]
  },
  {
   "cell_type": "markdown",
   "metadata": {},
   "source": [
    "##### Giải thích về 2 kiểu dữ liệu list, và dict:\n",
    "\n",
    "- Về list: đây là kiểu dữ liệu được sử dụng phổ biến nhất. Nói cho dễ hiểu, ta tưởng tượng list là một hàng/cột trong Excel, quản lí bằng index (thứ tự, trong python, index bắt đầu = 0), ==> Có nghĩa là ta có thể lấy được phần tử trong 1 list dựa vào index của nó.\n",
    "\n",
    "- Về dict: đây là kiểu dữ liệu QA hay sử dụng nhất, cấu trúc của dict là một tập hơp các cặp key:value.\n"
   ]
  },
  {
   "cell_type": "markdown",
   "metadata": {},
   "source": [
    "#### 3. Lệnh và cú pháp cơ bản"
   ]
  },
  {
   "cell_type": "code",
   "execution_count": 15,
   "metadata": {},
   "outputs": [
    {
     "data": {
      "text/plain": [
       "[1, 2, 3, 4, 5]"
      ]
     },
     "execution_count": 15,
     "metadata": {},
     "output_type": "execute_result"
    }
   ],
   "source": [
    "e"
   ]
  },
  {
   "cell_type": "code",
   "execution_count": 11,
   "metadata": {},
   "outputs": [
    {
     "data": {
      "text/plain": [
       "3"
      ]
     },
     "execution_count": 11,
     "metadata": {},
     "output_type": "execute_result"
    }
   ],
   "source": [
    "a + 2*a # cong 2 chuoi"
   ]
  },
  {
   "cell_type": "code",
   "execution_count": 8,
   "metadata": {},
   "outputs": [
    {
     "data": {
      "text/plain": [
       "'cinnamon100 trieu do'"
      ]
     },
     "execution_count": 8,
     "metadata": {},
     "output_type": "execute_result"
    }
   ],
   "source": [
    "c + e # nối 2 string"
   ]
  },
  {
   "cell_type": "code",
   "execution_count": 12,
   "metadata": {},
   "outputs": [
    {
     "data": {
      "text/plain": [
       "False"
      ]
     },
     "execution_count": 12,
     "metadata": {},
     "output_type": "execute_result"
    }
   ],
   "source": [
    "'ca' in c # kiểm tra chuỗi có chứa 1 chuỗi con nào không?"
   ]
  },
  {
   "cell_type": "code",
   "execution_count": 16,
   "metadata": {},
   "outputs": [
    {
     "data": {
      "text/plain": [
       "[1, 2, 3, 4, 5, 1, 2, 3, 4, 5]"
      ]
     },
     "execution_count": 16,
     "metadata": {},
     "output_type": "execute_result"
    }
   ],
   "source": [
    "e + e # nối 2 list"
   ]
  },
  {
   "cell_type": "code",
   "execution_count": 17,
   "metadata": {},
   "outputs": [
    {
     "data": {
      "text/plain": [
       "4"
      ]
     },
     "execution_count": 17,
     "metadata": {},
     "output_type": "execute_result"
    }
   ],
   "source": [
    "e[3]"
   ]
  },
  {
   "cell_type": "code",
   "execution_count": 9,
   "metadata": {},
   "outputs": [
    {
     "data": {
      "text/plain": [
       "(1, 2, 3, 4, 5)"
      ]
     },
     "execution_count": 9,
     "metadata": {},
     "output_type": "execute_result"
    }
   ],
   "source": [
    "e[0], e[1], e[2], e[3], e[4] # truy vấn thông qua index"
   ]
  },
  {
   "cell_type": "code",
   "execution_count": 10,
   "metadata": {},
   "outputs": [
    {
     "data": {
      "text/plain": [
       "1"
      ]
     },
     "execution_count": 10,
     "metadata": {},
     "output_type": "execute_result"
    }
   ],
   "source": [
    "e[0]"
   ]
  },
  {
   "cell_type": "code",
   "execution_count": 18,
   "metadata": {},
   "outputs": [
    {
     "ename": "IndexError",
     "evalue": "list index out of range",
     "output_type": "error",
     "traceback": [
      "\u001b[0;31m---------------------------------------------------------------------------\u001b[0m",
      "\u001b[0;31mIndexError\u001b[0m                                Traceback (most recent call last)",
      "\u001b[0;32m<ipython-input-18-2519b5ee6b44>\u001b[0m in \u001b[0;36m<module>\u001b[0;34m\u001b[0m\n\u001b[0;32m----> 1\u001b[0;31m \u001b[0me\u001b[0m\u001b[0;34m[\u001b[0m\u001b[0;36m5\u001b[0m\u001b[0;34m]\u001b[0m\u001b[0;34m\u001b[0m\u001b[0;34m\u001b[0m\u001b[0m\n\u001b[0m",
      "\u001b[0;31mIndexError\u001b[0m: list index out of range"
     ]
    }
   ],
   "source": [
    "e[5]"
   ]
  },
  {
   "cell_type": "markdown",
   "metadata": {},
   "source": [
    "##### Vòng lặp for \n",
    "\n",
    "- Thường dùng để duyệt qua tất cả các thành phần trong 1 list, hoặc 1 dict."
   ]
  },
  {
   "cell_type": "code",
   "execution_count": 25,
   "metadata": {},
   "outputs": [
    {
     "name": "stdout",
     "output_type": "stream",
     "text": [
      "1\n",
      "2\n",
      "3\n",
      "2\n",
      "3\n",
      "4\n",
      "3\n",
      "4\n",
      "5\n",
      "4\n",
      "5\n",
      "6\n",
      "5\n",
      "6\n",
      "7\n",
      "10000\n"
     ]
    }
   ],
   "source": [
    "elem = e[0]\n",
    "####\n",
    "print (elem)\n",
    "print (elem + 1)\n",
    "print (elem + 2)\n",
    "####\n",
    "\n",
    "elem = e[1]\n",
    "####\n",
    "print (elem)\n",
    "print (elem + 1)\n",
    "print (elem + 2)\n",
    "\n",
    "####\n",
    "\n",
    "elem = e[2]\n",
    "####\n",
    "print (elem)\n",
    "print (elem + 1)\n",
    "print (elem + 2)\n",
    "\n",
    "####\n",
    "\n",
    "elem = e[3]\n",
    "####\n",
    "print (elem)\n",
    "print (elem + 1)\n",
    "print (elem + 2)\n",
    "\n",
    "####\n",
    "\n",
    "elem = e[4]\n",
    "####\n",
    "print (elem)\n",
    "print (elem + 1)\n",
    "print (elem + 2)\n",
    "\n",
    "####\n",
    "\n",
    "print (10000)"
   ]
  },
  {
   "cell_type": "code",
   "execution_count": 23,
   "metadata": {},
   "outputs": [
    {
     "name": "stdout",
     "output_type": "stream",
     "text": [
      "1\n",
      "2\n",
      "3\n",
      "10000\n",
      "2\n",
      "3\n",
      "4\n",
      "10000\n",
      "3\n",
      "4\n",
      "5\n",
      "10000\n",
      "4\n",
      "5\n",
      "6\n",
      "10000\n",
      "5\n",
      "6\n",
      "7\n",
      "10000\n"
     ]
    }
   ],
   "source": [
    "for elem in [1,2,3,4,5]: # duyet qua tat ca cac phan tu trong 1 list\n",
    "    ###\n",
    "    print (elem)\n",
    "    print (elem + 1)\n",
    "    print (elem + 2)\n",
    "    ###\n",
    "    \n",
    "print (10000)\n",
    "\n",
    "    \n",
    "    \n"
   ]
  },
  {
   "cell_type": "markdown",
   "metadata": {},
   "source": [
    "#### Lệnh điều kiện if?\n",
    "- Câu lệnh rẽ nhánh ?\n",
    "- Nếu hôm nay trời mưa, tôi ở nhà, ngược lại, tôi sẽ đi làm. ==> if thoi_tiet == 'mua_sap_mat': o_nha() else: di_lam()"
   ]
  },
  {
   "cell_type": "code",
   "execution_count": 26,
   "metadata": {},
   "outputs": [],
   "source": [
    "a = 10"
   ]
  },
  {
   "cell_type": "code",
   "execution_count": 29,
   "metadata": {},
   "outputs": [
    {
     "data": {
      "text/plain": [
       "True"
      ]
     },
     "execution_count": 29,
     "metadata": {},
     "output_type": "execute_result"
    }
   ],
   "source": [
    "a <= 11"
   ]
  },
  {
   "cell_type": "code",
   "execution_count": 8,
   "metadata": {},
   "outputs": [
    {
     "name": "stdout",
     "output_type": "stream",
     "text": [
      "O nha cho khoe.\n"
     ]
    }
   ],
   "source": [
    "thoi_tiet = 'mua_sap_mat'\n",
    "\n",
    "if thoi_tiet == 'mua_sap_mat': # Cách viết if_1\n",
    "    print (\"O nha cho khoe.\")\n",
    "else:\n",
    "    print (\"Di lam.\")\n"
   ]
  },
  {
   "cell_type": "code",
   "execution_count": 13,
   "metadata": {},
   "outputs": [
    {
     "name": "stdout",
     "output_type": "stream",
     "text": [
      "Di lam\n"
     ]
    }
   ],
   "source": [
    "thoi_tiet = 'mua_nhe_nhe________'\n",
    "\n",
    "if thoi_tiet == 'mua_sap_mat': # Cách viết if_2\n",
    "    print (\"O nha cho khoe\")\n",
    "elif thoi_tiet == 'mua_nhe_nhe':\n",
    "    print (\"Di lam tre xiu\")\n",
    "else:\n",
    "    print (\"Di lam\")"
   ]
  },
  {
   "cell_type": "code",
   "execution_count": 10,
   "metadata": {},
   "outputs": [
    {
     "data": {
      "text/plain": [
       "True"
      ]
     },
     "execution_count": 10,
     "metadata": {},
     "output_type": "execute_result"
    }
   ],
   "source": [
    "5 == 5"
   ]
  },
  {
   "cell_type": "markdown",
   "metadata": {},
   "source": [
    "#### 3. Thao tác đơn giản với thư viện os\n",
    "Thư viện os thường được dùng trong việc duyệt các files trong một folder, xử lí đường dẫn, các file extension (.png, .txt,...)."
   ]
  },
  {
   "cell_type": "code",
   "execution_count": 30,
   "metadata": {},
   "outputs": [],
   "source": [
    "import os # Để sử dụng thư viện này, cần import nó vô trước đã "
   ]
  },
  {
   "cell_type": "code",
   "execution_count": 31,
   "metadata": {},
   "outputs": [
    {
     "name": "stdout",
     "output_type": "stream",
     "text": [
      "1701ﾔﾏﾀﾞ請求書_0.json\n",
      "0785_039_4.json\n",
      "0785_039_2.json\n",
      "NTT協賛金_0.json\n",
      "1612CASE請求書_0.json\n",
      "春日井製菓販売_13.json\n",
      "starupweekend請求書_0.json\n",
      "0750_001_12.json\n",
      "0802_001_7.json\n",
      "0749_001_40.json\n",
      "19_惠蘭ジーアンドエフデザイン株式会社_0.json\n",
      "1609ILS請求書_0.json\n",
      "春日井製菓販売_5.json\n",
      "ご請求書_TIS株式会社様_BKA-Z32-1709-62_0.json\n",
      "【請求書】飲料メーカー会員アプリ_201709_0.json\n",
      "0750_001_2.json\n",
      "0788_057_16.json\n",
      "0786_058_22.json\n",
      "春日井製菓販売_7.json\n",
      "13_株式会社アライヴ・ウエル_0.json\n",
      "1703mmip請求書_0.json\n",
      "春日井製菓販売_9.json\n",
      "MX-5150FV_20181217_151806_0.json\n",
      "MX-5150FV_20181217_145519_1.json\n",
      "日本エス・エイチ・エル_0.json\n",
      "高輪_ネットワンシステムズ_0.json\n",
      "0807_001_6.json\n",
      "オフィシス_0.json\n",
      "0749_001_21.json\n",
      "サムライ_12月_0.json\n",
      "1702CASE請求書_0.json\n",
      "1703case請求書_0.json\n",
      "春日井製菓販売_10.json\n",
      "1701請求書MMIP_0.json\n",
      "0786_058_21.json\n",
      "0802_001_6.json\n",
      "170228イリナ請求書_0.json\n",
      "1610ユニバーサル園芸請求書_0.json\n",
      "0802_001_8.json\n",
      "15_高島屋_1.json\n",
      "Offisis_請求書3月分_0.json\n",
      "MX-5150FV_20181217_151726_0.json\n",
      "0785_070_22.json\n",
      "14_日本証券新聞社_0.json\n",
      "請求書_0.json\n",
      "1701CASE請求書_0.json\n",
      "0785_109_13.json\n",
      "0785_039_3.json\n",
      "20180703-01_0.json\n",
      "11_0.json\n",
      "1605慶應sfc請求書_0.json\n",
      "0784_034_14.json\n",
      "19_惠蘭ジーアンドエフデザイン株式会社_1.json\n",
      "10_星光ビル管理_1.json\n",
      "ＮＴＴデータ_0.json\n",
      "------------------------\n"
     ]
    }
   ],
   "source": [
    "# Một số thao tác đơn giản\n",
    "\n",
    "# # Lấy extension của 1 file_path.\n",
    "# file_path = \"./jsons/19_惠蘭ジーアンドエフデザイン株式会社_0.json\"\n",
    "\n",
    "# file_name, extension = os.path.splitext(file_path)\n",
    "# print (\"Original file:\", file_path, \"File name:\", file_name, \"extension:\", extension)\n",
    "\n",
    "# print ('------------------------')\n",
    "\n",
    "# Lấy tất cả file trong 1 folder\n",
    "# folder_dir = \"./jsons/\"\n",
    "\n",
    "# file_names = os.listdir(folder_dir)\n",
    "# for file_name in file_names:\n",
    "# #     _file_name, extension = os.path.splitext(file_path)\n",
    "# #     print (\"Original file:\", file_name, \"File name:\", _file_name, \"extension:\", extension)\n",
    "#     print (file_name)\n",
    "    \n",
    "# Nối 2 đường dẫn\n",
    "print ('------------------------')\n",
    "file_path_1 = \"./jsons\"\n",
    "file_path_2 = \"1701ﾔﾏﾀﾞ請求書_0.json\"\n",
    "\n",
    "file_path = os.path.join(file_path_1, file_path_2) \n",
    "print (\"path_1:\", file_path_1, 'path_2:', file_path_2, 'merge to:',file_path)\n"
   ]
  },
  {
   "cell_type": "markdown",
   "metadata": {},
   "source": [
    "#### Bài tập\n",
    "1. In ra tất cả những file nằm trong folder 'jsons' đính kèm.\n",
    "2. In ra tất cả những file (ONLY JSON) trong folder \"jsons_and_images\". "
   ]
  },
  {
   "cell_type": "code",
   "execution_count": null,
   "metadata": {},
   "outputs": [],
   "source": []
  }
 ],
 "metadata": {
  "kernelspec": {
   "display_name": "Python 3",
   "language": "python",
   "name": "python3"
  },
  "language_info": {
   "codemirror_mode": {
    "name": "ipython",
    "version": 3
   },
   "file_extension": ".py",
   "mimetype": "text/x-python",
   "name": "python",
   "nbconvert_exporter": "python",
   "pygments_lexer": "ipython3",
   "version": "3.6.8"
  }
 },
 "nbformat": 4,
 "nbformat_minor": 2
}
